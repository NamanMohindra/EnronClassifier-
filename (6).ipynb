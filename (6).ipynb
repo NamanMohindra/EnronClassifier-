{
  "nbformat": 4,
  "nbformat_minor": 0,
  "metadata": {
    "colab": {
      "name": "ActiveTraining(6).ipynb",
      "provenance": [],
      "authorship_tag": "ABX9TyMJ2v81pNGWRuc9KdQ1RqA3",
      "include_colab_link": true
    },
    "kernelspec": {
      "name": "python3",
      "display_name": "Python 3"
    },
    "accelerator": "GPU"
  },
  "cells": [
    {
      "cell_type": "markdown",
      "metadata": {
        "id": "view-in-github",
        "colab_type": "text"
      },
      "source": [
        "<a href=\"https://colab.research.google.com/github/NamanMohindra/EnronClassifier-/blob/master/(6).ipynb\" target=\"_parent\"><img src=\"https://colab.research.google.com/assets/colab-badge.svg\" alt=\"Open In Colab\"/></a>"
      ]
    },
    {
      "cell_type": "code",
      "metadata": {
        "id": "aDqcZy-bfYEC",
        "colab_type": "code",
        "outputId": "1d6f68f8-617c-4d89-d0d1-4bc2a328bd3c",
        "colab": {
          "base_uri": "https://localhost:8080/",
          "height": 189
        }
      },
      "source": [
        "from google.colab import drive\n",
        "drive.mount('/content/drive')"
      ],
      "execution_count": 0,
      "outputs": [
        {
          "output_type": "stream",
          "text": [
            "Go to this URL in a browser: https://accounts.google.com/o/oauth2/auth?client_id=947318989803-6bn6qk8qdgf4n4g3pfee6491hc0brc4i.apps.googleusercontent.com&redirect_uri=urn%3aietf%3awg%3aoauth%3a2.0%3aoob&response_type=code&scope=email%20https%3a%2f%2fwww.googleapis.com%2fauth%2fdocs.test%20https%3a%2f%2fwww.googleapis.com%2fauth%2fdrive%20https%3a%2f%2fwww.googleapis.com%2fauth%2fdrive.photos.readonly%20https%3a%2f%2fwww.googleapis.com%2fauth%2fpeopleapi.readonly\n",
            "\n",
            "Enter your authorization code:\n",
            "··········\n",
            "Mounted at /content/drive\n"
          ],
          "name": "stdout"
        }
      ]
    },
    {
      "cell_type": "code",
      "metadata": {
        "id": "-0iDQ-Z6g6QE",
        "colab_type": "code",
        "colab": {}
      },
      "source": [
        "import re\n",
        "import os\n",
        "import numpy as np\n",
        "import random\n",
        "from numpy import dot\n",
        "from numpy.linalg import norm"
      ],
      "execution_count": 0,
      "outputs": []
    },
    {
      "cell_type": "code",
      "metadata": {
        "id": "52o5eavthGEI",
        "colab_type": "code",
        "colab": {}
      },
      "source": [
        "ENRONFOLDER = 'drive/My Drive/Enron Spam/'\n",
        "ENRONNOSPAMDATASET = 'drive/My Drive/Enron Spam/ham'\n",
        "FEATURES_LOC = 'drive/My Drive/Enron Spam/featureVectors.npy'\n",
        "\n",
        "feature_vectors = np.load(FEATURES_LOC)\n",
        "\n",
        "#initalising the values to 0 of the centroids of formal and informal emails \n",
        "formal_flag = 0\n",
        "informal_flag = 0\n",
        "formal_centroid = np.zeros(1000)\n",
        "informal_centroid = np.zeros(1000)\n",
        "learning_rate = 0.1\n",
        "\n",
        "annotation_indices = []\n",
        "annotations = []"
      ],
      "execution_count": 0,
      "outputs": []
    },
    {
      "cell_type": "code",
      "metadata": {
        "id": "i5FWANBEhI_P",
        "colab_type": "code",
        "colab": {}
      },
      "source": [
        "def getLabel(mailIndex):\n",
        "  file_location = os.listdir(ENRONNOSPAMDATASET)[mailIndex]\n",
        "  FILENAME = os.path.join(ENRONNOSPAMDATASET, file_location)\n",
        "  with open(FILENAME, 'r',encoding='utf-8',errors='ignore') as myfile:\n",
        "    data = myfile.read()\n",
        "    print(\"Message Contents: \")\n",
        "    print(data)\n",
        "    print(\"Is the displayed message informal[1] or formal[0] ?\")\n",
        "    val = int(input(\"Enter your value: \"))\n",
        "    return val\n",
        "\n",
        "\n",
        "def centroid_update(anno_index, label_value):\n",
        "  global formal_flag\n",
        "  global informal_flag\n",
        "  global formal_centroid\n",
        "  global informal_centroid\n",
        "  global learning_rate\n",
        "  fvector = feature_vectors[anno_index]\n",
        "  f_flag = formal_flag\n",
        "  if_flag = informal_flag\n",
        "  if((f_flag == 0) and (label_value==0)):\n",
        "    formal_flag = 1\n",
        "    formal_centroid = fvector\n",
        "  elif((if_flag == 0) and (label_value==1)):\n",
        "    informal_flag = 1\n",
        "    informal_centroid = fvector\n",
        "    #print(fvector)\n",
        "    #print(informal_centroid)\n",
        "  elif((f_flag ==1) and (label_value==0)):\n",
        "    diff = np.subtract(fvector, formal_centroid)\n",
        "    mult = np.multiply(diff, learning_rate)\n",
        "    formal_centroid = np.add(mult,formal_centroid)\n",
        "  elif((if_flag ==1) and (label_value==1)):\n",
        "    diff = np.subtract(fvector, informal_centroid)\n",
        "    mult = np.multiply(diff, learning_rate)\n",
        "    informal_centroid = np.add(mult,informal_centroid)\n",
        "  else:\n",
        "    print(\"Input Error\")\n",
        "\n",
        "def cosineSim(a, b):\n",
        "  cos_sim = dot(a, b)/(norm(a)*norm(b))\n",
        "  return cos_sim\n",
        "\n",
        "def generateIndex(max_val):\n",
        "  formals = 0\n",
        "  informals = 0\n",
        "  for j in annotations:\n",
        "    if j == 1:\n",
        "      informals += 1\n",
        "    if j == 0:\n",
        "      formals += 1\n",
        "  if (formals == informals):\n",
        "    genIndex = random.randrange(max_val)\n",
        "  else:\n",
        "    vector_indices = []\n",
        "    for i in range(10):\n",
        "      vector_indices.append(random.randrange(max_val))\n",
        "    index_features = [feature_vectors[x] for x in vector_indices]\n",
        "    if (formals > informals):\n",
        "      cos_sims = [cosineSim(y,formal_centroid) for y in index_features]\n",
        "    else:\n",
        "      cos_sims = [cosineSim(y,informal_centroid) for y in index_features]\n",
        "    print(cos_sims)\n",
        "    genInd = cos_sims.index(min(cos_sims))\n",
        "    genIndex = vector_indices[genInd]\n",
        "  return genIndex"
      ],
      "execution_count": 0,
      "outputs": []
    },
    {
      "cell_type": "code",
      "metadata": {
        "id": "LKJSCKe9hOJx",
        "colab_type": "code",
        "colab": {}
      },
      "source": [
        "def annotateLabels(num_labels):\n",
        "  for i in range(num_labels):\n",
        "    anno_index = generateIndex(3300)\n",
        "    annotation_indices.append(anno_index)\n",
        "    label_value = getLabel(anno_index)\n",
        "    annotations.append(label_value)\n",
        "    centroid_update(anno_index, label_value)"
      ],
      "execution_count": 0,
      "outputs": []
    },
    {
      "cell_type": "code",
      "metadata": {
        "id": "5Dd4rBD2hSxZ",
        "colab_type": "code",
        "outputId": "6b406a86-8069-4ff3-91e1-f010e98caaa7",
        "colab": {
          "base_uri": "https://localhost:8080/",
          "height": 1000
        }
      },
      "source": [
        "annotateLabels(10)\n"
      ],
      "execution_count": 0,
      "outputs": [
        {
          "output_type": "stream",
          "text": [
            "Message Contents: \n",
            "Subject: credit watch list - - week of 11 / 19 / 01\n",
            "attached is a revised credit watch listing for the week of 11 / 19 / 01 . the yuma companies ( inc . ) has been added to this week ' s \" call credit \" column .\n",
            "if there are any personnel in your group that were not included in this distribution , please insure that they receive a copy of this report .\n",
            "to add additional people to this distribution , or if this report has been sent to you in error , please contact veronica espinoza at x 6 - 6002 .\n",
            "for other questions , please contact jason r . williams at x 5 - 3923 , veronica espinoza at x 6 - 6002 or darren vanek at x 3 - 1436 .\n",
            "Is the displayed message informal[1] or formal[0] ?\n",
            "Enter your value: 1\n",
            "[0.030261376633440123, 0.07412493166611012, 0.07412493166611012, 0.09513029883089882, 0.06362847629757779, 0.0, 0.11826247919781652, 0.1853123291652753, 0.17118419700436519, 0.12267912301642962]\n",
            "Message Contents: \n",
            "Subject: lyondell - - # 1063\n",
            "the gas looks like it is not allocating correctly in jan .\n",
            "i have not researched as to why , but if you like i can come down and go over\n",
            "some things to help identify and correct these kinds of problems .\n",
            "let me know .\n",
            "ken\n",
            "Is the displayed message informal[1] or formal[0] ?\n",
            "Enter your value: 1\n",
            "[0.009712858623572641, 0.2661107546897373, 0.06910820064381949, 0.14589509024806335, 0.0, 0.007678688960424389, 0.0056077215409204425, 0.011215443081840885, 0.04981508052531937, 0.1427223083364371]\n",
            "Message Contents: \n",
            "Subject: deal 338634 meter 985077\n",
            "the above deal was in the system for 7 / 1 / 00 to 12 / 31 / 00 . we have had\n",
            "continued flow on the following dates . . .\n",
            "1 / 4 / 01 to 1 / 8 / 01\n",
            "1 / 29 / 01\n",
            "2 / 7 / 01 to 2 / 28 / 01\n",
            "the total flow has been 2804 .\n",
            "can this deal be extended to cover the january and february flow ?\n",
            "Is the displayed message informal[1] or formal[0] ?\n",
            "Enter your value: 1\n",
            "[0.0069460525131112335, 0.02014355228802258, 0.04063963382815512, 0.13413995566318657, 0.059553033530513194, 0.012218510558356646, 0.13172616760909062, 0.07158394939526333, 0.14881462453944672, 0.03828213986332338]\n",
            "Message Contents: \n",
            "Subject: re : tenaska iv 10 / 00\n",
            "i don ' t see anything in path manager . mark is out today . do you have a new\n",
            "deal number for the purchase ?\n",
            "Is the displayed message informal[1] or formal[0] ?\n",
            "Enter your value: 1\n",
            "[0.07749171664358463, 0.04423709493231392, 0.0, 0.0870437809536206, 0.09427090219047561, 0.08964366845241237, 0.09217925374838785, 0.08644208954337075, 0.09259338944044791, 0.006103485793792484]\n",
            "Message Contents: \n",
            "Subject: ss 154\n",
            "- - - - - - - - - - - - - - - - - - - - - - forwarded by ami chokshi / corp / enron on 06 / 14 / 2000\n",
            "02 : 18 pm - - - - - - - - - - - - - - - - - - - - - - - - - - -\n",
            "\" jacqueline blanchard \" on 06 / 14 / 2000 01 : 49 : 30\n",
            "pm\n",
            "to :\n",
            "cc :\n",
            "subject : ss 154\n",
            "- text . htm\n",
            "Is the displayed message informal[1] or formal[0] ?\n",
            "Enter your value: 1\n",
            "[0.14415764682005153, 0.16754727215125245, 0.11015136585126699, 0.13980443374374335, 0.02643724494275401, 0.07770546565938695, 0.06279182240724465, 0.018007338175188313, 0.1899211574737082, 0.0]\n",
            "Message Contents: \n",
            "Subject: global octanes\n",
            "finished visiting with counsel . . . . . we will need to start with the buyback\n",
            "for global octanes 9 am tomorrow\n",
            "Is the displayed message informal[1] or formal[0] ?\n",
            "Enter your value: 1\n",
            "[0.059387829514827295, 0.13509905713755557, 0.04129622605435453, 0.10566777092214483, 0.05833153240060867, 0.0862034214704458, 0.046067366991299846, 0.14159295296661162, 0.00997922085489727, 0.10711990901195707]\n",
            "Message Contents: \n",
            "Subject: nomination 2 - 11 - 2000 ; 2 - 9 and 2 - 10\n",
            "effective 2 - 11 ( friday ) our nom into eastrans will revert to 32 , 000 mmbtu / d\n",
            "with 25 , 000 into pg & e and 7 , 000 from fuels cotton valley on purchase and\n",
            "sale .\n",
            "also , we will sell you 500 mmbtu / d from fcv .\n",
            "on 2 - 10 - 2000 , we zeroed out the nom from hpl to eastrans due\n",
            "to force majeure breakdown of compressor . we sold you\n",
            "7 , 000 mmbtud at gas daily mid - $ . 05 and 500 mmbtud at inside\n",
            "ferc monthly index - $ . 05 .\n",
            "Is the displayed message informal[1] or formal[0] ?\n",
            "Enter your value: 0\n",
            "[0.06971229010083116, 0.0723104713657248, 0.07090993192124254, 0.01393361807631001, 0.19293840983873953, 0.07749818196889299, 0.09674086161062596, 0.0, 0.10810776792987171, 0.008361457322803051]\n",
            "Message Contents: \n",
            "Subject: cuts\n",
            "fyi - - - - - - - - - - here are the latest cuts :\n",
            "6 / 16 richardson on oasis at el paso\n",
            "97 j 4 was 6 . 0 now 5 . 385 ( cut of 615 )\n",
            "burlington on oasis at el paso\n",
            "97 j 4 was 15 . 0 nowl 3 . 461 ( cut of 1 . 539 )\n",
            "exxon on oasis at el paso\n",
            "9 j 49 was 3 . 5 now 3 . 286 ( cut of 214 )\n",
            "6 / 17 201 k cut on oasis at pg & e waha\n",
            "who 34 was 12 . 110 now 10 . 831 ( cut of 1 . 279 )\n",
            "6 / 18 201 k cut on oasis at pg & e w\n",
            "who 34 was 12 . 110 now 10 . 166 ( cut of 1 . 944 )\n",
            "Is the displayed message informal[1] or formal[0] ?\n",
            "Enter your value: 1\n",
            "[0.1875095830753111, 0.049574178987250715, 0.0432877158359022, 0.07689361215937524, 0.09078684311242347, 0.01861064086742192, 0.05233551247243069, 0.13819190894352243, 0.15173279209482102, 0.07201315482747626]\n",
            "Message Contents: \n",
            "Subject: an opportunity to change your electricity provider\n",
            "electricity deregulation is coming to texas !\n",
            "what a great way to start off the new year \u0001 ) to be able to choose your\n",
            "electricity provider , which could mean potential savings for you and your\n",
            "family on your electric bill . as you know , enron has been a leader in\n",
            "lobbying for deregulation and a consumer \u0001 , s right to choose energy providers .\n",
            "for the first time in our state \u0001 , s history , 5 percent of texas households will\n",
            "have this golden opportunity . the newpower company ( newpower ) , which is\n",
            "approximately 45 percent owned by enron , was recently formed to provide\n",
            "energy and energy - related services to residential customers in deregulating\n",
            "energy markets across america , including texas . for a limited time ,\n",
            "houston - based employees will be eligible to participate in newpower \u0001 , s pilot\n",
            "program offering their deregulated electric service .\n",
            "be among the first to participate :\n",
            "enrollment with newpower begins march 12 . also , watch for a special enron\n",
            "employees exclusive offer on your desk march 12 . if you would like more\n",
            "information about newpower , visit the company ' s web site at www . newpower . com\n",
            "disclaimers :\n",
            "any contract for goods or services that is entered into by an enron employee\n",
            "with respect to the newpower program shall be solely between newpower and\n",
            "such employee . enron assumes no obligation on behalf of newpower and makes\n",
            "no representations , warranties , or guaranties with respect to newpower , or\n",
            "any goods or services offered or provided by newpower .\n",
            "Is the displayed message informal[1] or formal[0] ?\n",
            "Enter your value: 0\n",
            "[0.10293831814038895, 0.18062871728812743, 0.04844786402980214, 0.045002362028829235, 0.10001568138075596, 0.06875187184943916, 0.020247805292555796, 0.16487791413699462, 0.09023460012338094, 0.03737302955746627]\n",
            "Message Contents: \n",
            "Subject: cleburne outage\n",
            "gentlemen ,\n",
            "i wanted to clarify the length of the outage that started today at the\n",
            "cleburne site .\n",
            "the earliest the plant will be on - line is wednesday morning . if anything is\n",
            "found beyond a cracked transition piece or clogged fuel nozzle then it may\n",
            "extend the outage a few days . as soon as i hear something i will let you know .\n",
            "michael\n",
            "Is the displayed message informal[1] or formal[0] ?\n",
            "Enter your value: 0\n"
          ],
          "name": "stdout"
        }
      ]
    },
    {
      "cell_type": "code",
      "metadata": {
        "id": "bIA7t7zZhXVZ",
        "colab_type": "code",
        "outputId": "21a50fd4-3b63-428f-c014-a385e585d3a5",
        "colab": {
          "base_uri": "https://localhost:8080/",
          "height": 51
        }
      },
      "source": [
        "print(annotation_indices)\n",
        "print(annotations)"
      ],
      "execution_count": 0,
      "outputs": [
        {
          "output_type": "stream",
          "text": [
            "[929, 3093, 82, 1497, 2287, 1599, 3284, 2315, 1988, 2611]\n",
            "[1, 1, 1, 1, 1, 1, 0, 1, 0, 0]\n"
          ],
          "name": "stdout"
        }
      ]
    },
    {
      "cell_type": "code",
      "metadata": {
        "id": "TYVTFrIbiGBr",
        "colab_type": "code",
        "colab": {}
      },
      "source": [
        ""
      ],
      "execution_count": 0,
      "outputs": []
    }
  ]
}