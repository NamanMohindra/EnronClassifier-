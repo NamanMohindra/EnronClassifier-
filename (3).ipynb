{
  "nbformat": 4,
  "nbformat_minor": 0,
  "metadata": {
    "colab": {
      "name": "SpamClassifier(3).ipynb",
      "provenance": [],
      "collapsed_sections": [],
      "authorship_tag": "ABX9TyOAOmBeOy48QiYuJ6yftL86",
      "include_colab_link": true
    },
    "kernelspec": {
      "name": "python3",
      "display_name": "Python 3"
    }
  },
  "cells": [
    {
      "cell_type": "markdown",
      "metadata": {
        "id": "view-in-github",
        "colab_type": "text"
      },
      "source": [
        "<a href=\"https://colab.research.google.com/github/NamanMohindra/EnronClassifier-/blob/master/(3).ipynb\" target=\"_parent\"><img src=\"https://colab.research.google.com/assets/colab-badge.svg\" alt=\"Open In Colab\"/></a>"
      ]
    },
    {
      "cell_type": "code",
      "metadata": {
        "id": "h2QBclOAcFxr",
        "colab_type": "code",
        "outputId": "e7883107-72f0-4f99-8293-18dfa6bb614c",
        "colab": {
          "base_uri": "https://localhost:8080/",
          "height": 189
        }
      },
      "source": [
        "from google.colab import drive\n",
        "drive.mount('/content/drive')"
      ],
      "execution_count": 0,
      "outputs": [
        {
          "output_type": "stream",
          "text": [
            "Go to this URL in a browser: https://accounts.google.com/o/oauth2/auth?client_id=947318989803-6bn6qk8qdgf4n4g3pfee6491hc0brc4i.apps.googleusercontent.com&redirect_uri=urn%3aietf%3awg%3aoauth%3a2.0%3aoob&response_type=code&scope=email%20https%3a%2f%2fwww.googleapis.com%2fauth%2fdocs.test%20https%3a%2f%2fwww.googleapis.com%2fauth%2fdrive%20https%3a%2f%2fwww.googleapis.com%2fauth%2fdrive.photos.readonly%20https%3a%2f%2fwww.googleapis.com%2fauth%2fpeopleapi.readonly\n",
            "\n",
            "Enter your authorization code:\n",
            "··········\n",
            "Mounted at /content/drive\n"
          ],
          "name": "stdout"
        }
      ]
    },
    {
      "cell_type": "code",
      "metadata": {
        "id": "qnM_XWJIMnet",
        "colab_type": "code",
        "outputId": "f56065a2-890e-4bcc-90ba-9e3ef7fd4d2f",
        "colab": {
          "base_uri": "https://localhost:8080/",
          "height": 165
        }
      },
      "source": [
        "pip install matplotlib"
      ],
      "execution_count": 0,
      "outputs": [
        {
          "output_type": "stream",
          "text": [
            "Requirement already satisfied: matplotlib in /usr/local/lib/python3.6/dist-packages (3.2.1)\n",
            "Requirement already satisfied: cycler>=0.10 in /usr/local/lib/python3.6/dist-packages (from matplotlib) (0.10.0)\n",
            "Requirement already satisfied: numpy>=1.11 in /usr/local/lib/python3.6/dist-packages (from matplotlib) (1.18.3)\n",
            "Requirement already satisfied: pyparsing!=2.0.4,!=2.1.2,!=2.1.6,>=2.0.1 in /usr/local/lib/python3.6/dist-packages (from matplotlib) (2.4.7)\n",
            "Requirement already satisfied: python-dateutil>=2.1 in /usr/local/lib/python3.6/dist-packages (from matplotlib) (2.8.1)\n",
            "Requirement already satisfied: kiwisolver>=1.0.1 in /usr/local/lib/python3.6/dist-packages (from matplotlib) (1.2.0)\n",
            "Requirement already satisfied: six in /usr/local/lib/python3.6/dist-packages (from cycler>=0.10->matplotlib) (1.12.0)\n"
          ],
          "name": "stdout"
        }
      ]
    },
    {
      "cell_type": "code",
      "metadata": {
        "id": "JbIidMqV2xsz",
        "colab_type": "code",
        "colab": {}
      },
      "source": [
        "import csv\n",
        "import re\n",
        "import os\n",
        "import numpy as np\n",
        "from sklearn.metrics import confusion_matrix\n",
        "from sklearn.naive_bayes import MultinomialNB\n",
        "from sklearn.svm import LinearSVC\n",
        "from sklearn.metrics import accuracy_score\n",
        "import matplotlib.pyplot as plt"
      ],
      "execution_count": 0,
      "outputs": []
    },
    {
      "cell_type": "code",
      "metadata": {
        "id": "IyqgKP1D28SS",
        "colab_type": "code",
        "colab": {}
      },
      "source": [
        "ENRONFOLDER = 'drive/My Drive/Enron Spam/'\n",
        "XTRAIN_LOC = 'drive/My Drive/Enron Spam/xtrain.npy'\n",
        "YTRAIN_LOC = 'drive/My Drive/Enron Spam/ytrain.npy'\n",
        "XTEST_LOC = 'drive/My Drive/Enron Spam/xtest.npy'\n",
        "YTEST_LOC = 'drive/My Drive/Enron Spam/ytest.npy'\n",
        "\n",
        "X_train = np.load(XTRAIN_LOC)\n",
        "Y_train = np.load(YTRAIN_LOC)\n",
        "X_test = np.load(XTEST_LOC)\n",
        "Y_test = np.load(YTEST_LOC)"
      ],
      "execution_count": 0,
      "outputs": []
    },
    {
      "cell_type": "code",
      "metadata": {
        "id": "maBU8QXp2_Hr",
        "colab_type": "code",
        "outputId": "dce8bb2a-c96e-4d6b-8224-21e3eef78810",
        "colab": {
          "base_uri": "https://localhost:8080/",
          "height": 85
        }
      },
      "source": [
        "print(len(X_train))\n",
        "print(len(Y_train))\n",
        "print(len(X_test))\n",
        "print(len(Y_test))"
      ],
      "execution_count": 0,
      "outputs": [
        {
          "output_type": "stream",
          "text": [
            "4000\n",
            "4000\n",
            "1219\n",
            "1219\n"
          ],
          "name": "stdout"
        }
      ]
    },
    {
      "cell_type": "code",
      "metadata": {
        "id": "YhU5SSJw3HS8",
        "colab_type": "code",
        "outputId": "80aefcb5-ad80-4881-8954-fbe2f35e52b3",
        "colab": {
          "base_uri": "https://localhost:8080/",
          "height": 85
        }
      },
      "source": [
        "#Training SVM and Naive Bayes Classifier\n",
        "model1 = MultinomialNB()\n",
        "model2 = LinearSVC()\n",
        "model1.fit(X_train, Y_train)\n",
        "model2.fit(X_train, Y_train)"
      ],
      "execution_count": 0,
      "outputs": [
        {
          "output_type": "execute_result",
          "data": {
            "text/plain": [
              "LinearSVC(C=1.0, class_weight=None, dual=True, fit_intercept=True,\n",
              "          intercept_scaling=1, loss='squared_hinge', max_iter=1000,\n",
              "          multi_class='ovr', penalty='l2', random_state=None, tol=0.0001,\n",
              "          verbose=0)"
            ]
          },
          "metadata": {
            "tags": []
          },
          "execution_count": 7
        }
      ]
    },
    {
      "cell_type": "code",
      "metadata": {
        "id": "bqhS8ORc3alG",
        "colab_type": "code",
        "outputId": "f0c35c31-7cf8-4320-a217-4a988f24daa7",
        "colab": {
          "base_uri": "https://localhost:8080/",
          "height": 119
        }
      },
      "source": [
        "result1 = model1.predict(X_test)\n",
        "result2 = model2.predict(X_test)\n",
        "\n",
        "array1=confusion_matrix(Y_test,result1)\n",
        "print(array1)\n",
        "print(accuracy_score(Y_test,result1))\n",
        "\n",
        "array2=confusion_matrix(Y_test,result2)\n",
        "print(array2)\n",
        "print(accuracy_score(Y_test,result2))"
      ],
      "execution_count": 0,
      "outputs": [
        {
          "output_type": "stream",
          "text": [
            "[[641  50]\n",
            " [ 55 473]]\n",
            "0.9138638228055783\n",
            "[[646  45]\n",
            " [ 46 482]]\n",
            "0.9253486464315013\n"
          ],
          "name": "stdout"
        }
      ]
    },
    {
      "cell_type": "code",
      "metadata": {
        "id": "HluF_3tk4mTK",
        "colab_type": "code",
        "outputId": "5b5c5582-edf5-4e02-8bed-cc8748cedc25",
        "colab": {
          "base_uri": "https://localhost:8080/",
          "height": 85
        }
      },
      "source": [
        "print(len(X_train))\n",
        "print(len(Y_train))\n",
        "print(len(X_test))\n",
        "print(len(Y_test))\n"
      ],
      "execution_count": 0,
      "outputs": [
        {
          "output_type": "stream",
          "text": [
            "4000\n",
            "4000\n",
            "1219\n",
            "1219\n"
          ],
          "name": "stdout"
        }
      ]
    },
    {
      "cell_type": "code",
      "metadata": {
        "id": "n8m1YGNY73E1",
        "colab_type": "code",
        "colab": {}
      },
      "source": [
        "#Displaying confusion matrix(TP,FP,TN,FN)\n",
        "\n",
        "#def print_confusion_matrix(Y_test,result1):\n",
        "    cm = confusion_matrix(Y_test,result1)\n",
        "    #print('True positive = ', cm[0][0])\n",
        "    #print('False positive = ', cm[0][1])\n",
        "    #print('False negative = ', cm[1][0])\n",
        "    #print('True negative = ', cm[1][1])\n",
        "\n",
        "#print_confusion_matrix(Y_test,result1)\n",
        "#print_confusion_matrix(Y_test,result1)"
      ],
      "execution_count": 0,
      "outputs": []
    },
    {
      "cell_type": "code",
      "metadata": {
        "id": "U6udhZgLR__A",
        "colab_type": "code",
        "outputId": "12d92ea5-e716-4129-a864-ffb017676e60",
        "colab": {
          "base_uri": "https://localhost:8080/",
          "height": 51
        }
      },
      "source": [
        "spamails=np.count_nonzero(result1)\n",
        "nospam=np.count_nonzero(result1==0)\n",
        "\n",
        "print(spamails)\n",
        "print(nospam)\n"
      ],
      "execution_count": 0,
      "outputs": [
        {
          "output_type": "stream",
          "text": [
            "523\n",
            "696\n"
          ],
          "name": "stdout"
        }
      ]
    },
    {
      "cell_type": "code",
      "metadata": {
        "id": "KI7vGpKcUOGE",
        "colab_type": "code",
        "outputId": "91a1a354-756c-4bec-802b-9962d9213025",
        "colab": {
          "base_uri": "https://localhost:8080/",
          "height": 51
        }
      },
      "source": [
        "print(result1.shape)\n",
        "print(X_test.shape)"
      ],
      "execution_count": 0,
      "outputs": [
        {
          "output_type": "stream",
          "text": [
            "(1219,)\n",
            "(1219, 1000)\n"
          ],
          "name": "stdout"
        }
      ]
    },
    {
      "cell_type": "code",
      "metadata": {
        "id": "aVVNFRDtuwaX",
        "colab_type": "code",
        "outputId": "1358ddec-0913-44c9-c9ab-bc48d21bf002",
        "colab": {
          "base_uri": "https://localhost:8080/",
          "height": 398
        }
      },
      "source": [
        "import seaborn as sn\n",
        "import pandas as pd\n",
        "import matplotlib.pyplot as plt\n",
        "\n",
        "df_cm = pd.DataFrame(array1, range(2), range(2))\n",
        "plt.figure(figsize=(7,5))\n",
        "sn.set(font_scale=1.4) # for label size\n",
        "sn.heatmap(df_cm, annot=True, annot_kws={\"size\": 10},fmt='',cmap=\"YlGnBu_r\") # font size\n",
        "\n",
        "plt.show()\n",
        "print(accuracy_score(Y_test,result1))"
      ],
      "execution_count": 0,
      "outputs": [
        {
          "output_type": "stream",
          "text": [
            "/usr/local/lib/python3.6/dist-packages/statsmodels/tools/_testing.py:19: FutureWarning: pandas.util.testing is deprecated. Use the functions in the public API at pandas.testing instead.\n",
            "  import pandas.util.testing as tm\n"
          ],
          "name": "stderr"
        },
        {
          "output_type": "display_data",
          "data": {
            "image/png": "[encoded data removed]",
            "text/plain": [
              "<Figure size 504x360 with 2 Axes>"
            ]
          },
          "metadata": {
            "tags": [],
            "needs_background": "light"
          }
        },
        {
          "output_type": "stream",
          "text": [
            "0.9138638228055783\n"
          ],
          "name": "stdout"
        }
      ]
    },
    {
      "cell_type": "code",
      "metadata": {
        "id": "HOBvzdsCx5Dh",
        "colab_type": "code",
        "outputId": "4d4ffb9c-5bca-4464-ba58-85a6c7034b24",
        "colab": {
          "base_uri": "https://localhost:8080/",
          "height": 344
        }
      },
      "source": [
        "df_cm = pd.DataFrame(array2, range(2), range(2))\n",
        "plt.figure(figsize=(7,5))\n",
        "sn.set(font_scale=1.4) # for label size\n",
        "sn.heatmap(df_cm, annot=True, annot_kws={\"size\": 10},fmt='',cmap=\"YlGnBu\") # font size\n",
        "\n",
        "plt.show()\n",
        "print(accuracy_score(Y_test,result2))"
      ],
      "execution_count": 0,
      "outputs": [
        {
          "output_type": "display_data",
          "data": {
            "image/png": "[encoded data removed]",
            "text/plain": [
              "<Figure size 504x360 with 2 Axes>"
            ]
          },
          "metadata": {
            "tags": []
          }
        },
        {
          "output_type": "stream",
          "text": [
            "0.9253486464315013\n"
          ],
          "name": "stdout"
        }
      ]
    },
    {
      "cell_type": "code",
      "metadata": {
        "id": "yNjATA28zDR_",
        "colab_type": "code",
        "colab": {}
      },
      "source": [
        ""
      ],
      "execution_count": 0,
      "outputs": []
    }
  ]
}