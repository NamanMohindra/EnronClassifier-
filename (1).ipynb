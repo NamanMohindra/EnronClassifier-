{
  "nbformat": 4,
  "nbformat_minor": 0,
  "metadata": {
    "colab": {
      "name": "BagOfWords(1).ipynb",
      "provenance": [],
      "collapsed_sections": [],
      "authorship_tag": "ABX9TyOtR3VO8HqzjuHcOSb5e0kJ",
      "include_colab_link": true
    },
    "kernelspec": {
      "name": "python3",
      "display_name": "Python 3"
    },
    "accelerator": "GPU"
  },
  "cells": [
    {
      "cell_type": "markdown",
      "metadata": {
        "id": "view-in-github",
        "colab_type": "text"
      },
      "source": [
        "<a href=\"https://colab.research.google.com/github/NamanMohindra/EnronClassifier-/blob/master/(1).ipynb\" target=\"_parent\"><img src=\"https://colab.research.google.com/assets/colab-badge.svg\" alt=\"Open In Colab\"/></a>"
      ]
    },
    {
      "cell_type": "code",
      "metadata": {
        "id": "98MSLULCu8I_",
        "colab_type": "code",
        "outputId": "d3a4991d-3110-4955-cd9a-fa8e19e3f95c",
        "colab": {
          "base_uri": "https://localhost:8080/",
          "height": 189
        }
      },
      "source": [
        "from google.colab import drive\n",
        "drive.mount('/content/drive')\n",
        "\n"
      ],
      "execution_count": 0,
      "outputs": [
        {
          "output_type": "stream",
          "text": [
            "Go to this URL in a browser: https://accounts.google.com/o/oauth2/auth?client_id=947318989803-6bn6qk8qdgf4n4g3pfee6491hc0brc4i.apps.googleusercontent.com&redirect_uri=urn%3aietf%3awg%3aoauth%3a2.0%3aoob&response_type=code&scope=email%20https%3a%2f%2fwww.googleapis.com%2fauth%2fdocs.test%20https%3a%2f%2fwww.googleapis.com%2fauth%2fdrive%20https%3a%2f%2fwww.googleapis.com%2fauth%2fdrive.photos.readonly%20https%3a%2f%2fwww.googleapis.com%2fauth%2fpeopleapi.readonly\n",
            "\n",
            "Enter your authorization code:\n",
            "··········\n",
            "Mounted at /content/drive\n"
          ],
          "name": "stdout"
        }
      ]
    },
    {
      "cell_type": "code",
      "metadata": {
        "id": "Lh0Xi5Sju9rN",
        "colab_type": "code",
        "outputId": "2049cf93-1980-4945-8acd-d75955776508",
        "colab": {
          "base_uri": "https://localhost:8080/",
          "height": 119
        }
      },
      "source": [
        "import os\n",
        "import numpy as np\n",
        "import re\n",
        "import nltk\n",
        "from nltk.corpus import stopwords\n",
        "nltk.download('punkt')\n",
        "nltk.download('stopwords')\n",
        "nltk.download('words')\n",
        "from collections import Counter\n",
        "from itertools import islice\n",
        "\n"
      ],
      "execution_count": 0,
      "outputs": [
        {
          "output_type": "stream",
          "text": [
            "[nltk_data] Downloading package punkt to /root/nltk_data...\n",
            "[nltk_data]   Unzipping tokenizers/punkt.zip.\n",
            "[nltk_data] Downloading package stopwords to /root/nltk_data...\n",
            "[nltk_data]   Unzipping corpora/stopwords.zip.\n",
            "[nltk_data] Downloading package words to /root/nltk_data...\n",
            "[nltk_data]   Unzipping corpora/words.zip.\n"
          ],
          "name": "stdout"
        }
      ]
    },
    {
      "cell_type": "code",
      "metadata": {
        "id": "n9z4NSyXvxSM",
        "colab_type": "code",
        "colab": {}
      },
      "source": [
        "main_dict = {}\n",
        "stop_words = set(stopwords.words('english'))\n",
        "#Set of stop words created\n",
        "def scanMail(mail_string):\n",
        "  res = re.findall(r'\\w+', mail_string)\n",
        "  #a list of all the words returned \n",
        "  res.pop(0)\n",
        "  final_res = []\n",
        "  for each_word in res:\n",
        "    if ((each_word.isalpha()) and (each_word not in stop_words)) :\n",
        "      final_res.append(each_word)\n",
        "      if each_word in main_dict:\n",
        "        main_dict[each_word] += 1\n",
        "      else:\n",
        "        main_dict[each_word] = 1\n",
        "        #dictionary of words for all the emails created\n",
        "\n",
        "  return final_res\n"
      ],
      "execution_count": 0,
      "outputs": []
    },
    {
      "cell_type": "code",
      "metadata": {
        "id": "PMFLpqsyBOgD",
        "colab_type": "code",
        "colab": {}
      },
      "source": [
        "def take(n, iterable):\n",
        "    \"Return first n items of the iterable as a list\"\n",
        "    return list(islice(iterable, n))"
      ],
      "execution_count": 0,
      "outputs": []
    },
    {
      "cell_type": "code",
      "metadata": {
        "id": "x6pkEyaQv0sO",
        "colab_type": "code",
        "colab": {}
      },
      "source": [
        "ENRONSPAMDATASET = 'drive/My Drive/Enron Spam/spam'\n",
        "ENRONNOSPAMDATASET = 'drive/My Drive/Enron Spam/ham'\n",
        "\n",
        "#creating the training dataset for spam emails(1000 emails)\n",
        "mail_counter = 0\n",
        "for each_file in os.listdir(ENRONSPAMDATASET):\n",
        "  FILENAME = os.path.join(ENRONSPAMDATASET, each_file)\n",
        "  #print(FILENAME)\n",
        "  with open(FILENAME, 'r',encoding='utf-8',errors='ignore') as myfile:\n",
        "    data = myfile.read()\n",
        "    word_list = scanMail(data)\n",
        "  mail_counter += 1\n",
        "  if mail_counter>=1000:\n",
        "    break\n",
        "\n",
        "#creating the training dataset for non-spam emails(3000 emails)\n",
        "mail_counter = 0\n",
        "for each_file in os.listdir(ENRONNOSPAMDATASET):\n",
        "  FILENAME = os.path.join(ENRONNOSPAMDATASET, each_file)\n",
        "  #print(FILENAME)\n",
        "  with open(FILENAME, 'r',encoding='utf-8',errors='ignore') as myfile:\n",
        "    data = myfile.read()\n",
        "    word_list = scanMail(data)\n",
        "  mail_counter += 1\n",
        "  if mail_counter>=3000:\n",
        "    break\n",
        "\n",
        "\n"
      ],
      "execution_count": 0,
      "outputs": []
    },
    {
      "cell_type": "code",
      "metadata": {
        "id": "XU8Y_dOEv3gf",
        "colab_type": "code",
        "outputId": "89481b34-b7ee-4a80-fcf8-a24ee29859dd",
        "colab": {
          "base_uri": "https://localhost:8080/",
          "height": 74
        }
      },
      "source": [
        "n_items = take(100, main_dict.items())\n",
        "print(n_items)\n",
        "#a glimpse of the dictionary created from the emails"
      ],
      "execution_count": 0,
      "outputs": [
        {
          "output_type": "stream",
          "text": [
            "[('solve', 16), ('health', 128), ('problems', 210), ('includes', 154), ('free', 640), ('medical', 118), ('consultation', 30), ('http', 1702), ('www', 1136), ('authorise', 4), ('rneds', 4), ('us', 1474), ('f', 572), ('p', 1078), ('looking', 596), ('medication', 34), ('best', 492), ('source', 120), ('difficult', 32), ('make', 806), ('material', 212), ('condition', 24), ('better', 264), ('law', 62), ('easy', 178), ('enough', 108), ('ruin', 4), ('bad', 94), ('laws', 24), ('excuse', 4), ('found', 180), ('simpliest', 4), ('site', 358), ('net', 1114), ('perscription', 4), ('delivery', 480), ('private', 132), ('secure', 96), ('see', 1986), ('rightly', 2), ('pound', 6), ('week', 636), ('squint', 2), ('million', 254), ('got', 238), ('anything', 304), ('ever', 174), ('want', 852), ('erection', 28), ('treatment', 60), ('pills', 74), ('anti', 46), ('depressant', 10), ('weight', 74), ('loss', 200), ('splicings', 2), ('bombahakcx', 2), ('com', 6152), ('knowledge', 66), ('human', 36), ('power', 352), ('synonymous', 2), ('high', 598), ('quality', 248), ('stuff', 62), ('low', 278), ('rates', 232), ('moneyback', 4), ('guarantee', 84), ('god', 138), ('nature', 16), ('sufficeth', 2), ('unto', 4), ('wise', 16), ('hath', 2), ('need', 2208), ('author', 10), ('permanent', 26), ('fix', 40), ('penis', 62), ('enlargement', 4), ('limited', 220), ('time', 1486), ('offer', 342), ('add', 296), ('atleast', 30), ('inches', 26), ('money', 446), ('back', 870), ('visit', 334), ('learn', 102), ('offers', 222), ('canadian', 40), ('pharmacy', 106), ('retrovir', 4), ('page', 214), ('loading', 22), ('image', 174), ('showing', 156), ('message', 1604)]\n"
          ],
          "name": "stdout"
        }
      ]
    },
    {
      "cell_type": "code",
      "metadata": {
        "id": "fle9pf7mB5Yq",
        "colab_type": "code",
        "colab": {}
      },
      "source": [
        "#creating the 1000-word final dictionary \n",
        "def getCommon(new_dict, n):\n",
        "  temp_dict = new_dict\n",
        "  ret_dict = {}\n",
        "  for i in range(n):\n",
        "    Keymax = max(temp_dict, key=temp_dict.get)\n",
        "    ret_dict[Keymax]=temp_dict[Keymax]\n",
        "    del temp_dict[Keymax]\n",
        "  return ret_dict\n",
        "\n",
        "final_dict = getCommon(main_dict,1000)\n"
      ],
      "execution_count": 0,
      "outputs": []
    },
    {
      "cell_type": "code",
      "metadata": {
        "id": "fGya0uRJAf-n",
        "colab_type": "code",
        "colab": {}
      },
      "source": [
        "\n",
        "final_dict = getCommon(main_dict,1000)\n",
        "\n",
        "import csv\n",
        "with open('drive/My Drive/Enron Spam/bagofwords.csv', 'w') as f:\n",
        "    for key in final_dict.keys():\n",
        "        f.write(\"%s,%s\\n\"%(key,final_dict[key]))"
      ],
      "execution_count": 0,
      "outputs": []
    },
    {
      "cell_type": "code",
      "metadata": {
        "id": "Y5qhGazyjrfM",
        "colab_type": "code",
        "outputId": "4998aa78-b998-4f23-d8eb-be74d7b51f8b",
        "colab": {
          "base_uri": "https://localhost:8080/",
          "height": 51
        }
      },
      "source": [
        "print(len(os.listdir(ENRONSPAMDATASET)))\n",
        "print(len(os.listdir(ENRONNOSPAMDATASET)))"
      ],
      "execution_count": 0,
      "outputs": [
        {
          "output_type": "stream",
          "text": [
            "1528\n",
            "3691\n"
          ],
          "name": "stdout"
        }
      ]
    },
    {
      "cell_type": "code",
      "metadata": {
        "id": "0jlp94LKjsJ3",
        "colab_type": "code",
        "outputId": "574a7a66-792f-4f39-f757-fde6802227ca",
        "colab": {
          "base_uri": "https://localhost:8080/",
          "height": 74
        }
      },
      "source": [
        "print(final_dict)"
      ],
      "execution_count": 0,
      "outputs": [
        {
          "output_type": "stream",
          "text": [
            "{'ect': 20042, 'enron': 10932, 'hou': 10576, 'com': 6152, 'gas': 5130, 'please': 4932, 'subject': 4660, 'deal': 4538, 'hpl': 4098, 'meter': 3796, 'cc': 3756, 'pm': 3648, 'daren': 3128, 'thanks': 3000, 'corp': 2774, 'e': 2672, 'know': 2412, 'may': 2390, 'need': 2208, 'j': 2198, 'new': 2088, 'mmbtu': 2056, 'company': 2042, 'price': 2008, 'see': 1986, 'farmer': 1934, 'forwarded': 1922, 'attached': 1910, 'xls': 1814, 'get': 1778, 'information': 1776, 'let': 1762, 'http': 1702, 'day': 1642, 'would': 1628, 'message': 1604, 'l': 1596, 'time': 1486, 'us': 1474, 'robert': 1424, 'texas': 1412, 'volume': 1402, 'nom': 1376, 'one': 1372, 'pec': 1314, 'sent': 1312, 'contract': 1304, 'bob': 1304, 'mail': 1284, 'th': 1280, 'energy': 1268, 'ena': 1264, 'questions': 1252, 'month': 1252, 'volumes': 1230, 'deals': 1220, 'sitara': 1218, 'email': 1208, 'file': 1172, 'production': 1158, 'www': 1136, 'flow': 1122, 'also': 1120, 'net': 1114, 'p': 1078, 'change': 1072, 'call': 1064, 'original': 1022, 'daily': 1006, 'x': 1004, 'following': 994, 'july': 990, 'like': 976, 'nomination': 966, 'mary': 954, 'report': 948, 'contact': 922, 'could': 904, 'statements': 900, 'c': 892, 'gary': 878, 'effective': 872, 'back': 870, 'per': 870, 'days': 868, 'b': 866, 'tenaska': 864, 'want': 852, 'ticket': 850, 'teco': 836, 'oil': 828, 'houston': 828, 'june': 820, 'april': 820, 'number': 816, 'melissa': 814, 'business': 812, 'plant': 812, 'inc': 810, 'today': 808, 'make': 806, 'use': 794, 'sales': 790, 'fw': 784, 'system': 782, 'list': 772, 'forward': 772, 'vance': 772, 'first': 762, 'well': 760, 'within': 760, 'sale': 748, 'help': 738, 'march': 738, 'go': 724, 'font': 720, 'purchase': 720, 'agreement': 716, 'order': 714, 'take': 704, 'r': 700, 'line': 698, 'tap': 684, 'america': 678, 'north': 676, 'next': 662, 'october': 658, 'august': 648, 'service': 644, 'free': 640, 'cotten': 638, 'week': 636, 'based': 634, 'less': 630, 'smith': 630, 'iv': 628, 'pat': 626, 'actuals': 624, 'thank': 622, 'set': 608, 'george': 608, 'product': 608, 'phone': 604, 'name': 602, 'high': 598, 'looking': 596, 'fax': 596, 'david': 596, 'michael': 594, 'think': 594, 'mark': 592, 'two': 590, 'aimee': 586, 'year': 584, 'september': 584, 'click': 582, 'h': 582, 'co': 582, 'office': 580, 'changes': 580, 'needs': 578, 'send': 576, 'f': 572, 'last': 572, 'made': 570, 'stock': 570, 'tu': 570, 'products': 566, 'megan': 562, 'management': 560, 'request': 558, 'lisa': 558, 'julie': 556, 'services': 550, 'november': 548, 'w': 546, 'steve': 546, 'friday': 544, 'available': 542, 'duke': 542, 'john': 540, 'future': 536, 'taylor': 536, 'desk': 536, 'hsc': 536, 'jackie': 532, 'noms': 530, 'date': 528, 'due': 528, 'work': 526, 'transport': 524, 'actual': 522, 'total': 522, 'group': 520, 'look': 518, 'point': 514, 'find': 506, 'online': 506, 'market': 506, 'na': 504, 'said': 502, 'many': 500, 'u': 498, 'december': 498, 'currently': 496, 'best': 492, 'process': 490, 'wellhead': 490, 'spot': 488, 'pipeline': 488, 'still': 486, 'investment': 484, 'fuel': 484, 'prices': 482, 'internet': 482, 'delivery': 480, 'securities': 476, 'susan': 474, 'fee': 472, 'utilities': 472, 'home': 470, 'going': 468, 'fyi': 468, 'monday': 466, 'check': 460, 'info': 458, 'supply': 458, 'txu': 458, 'january': 456, 'hplno': 456, 'n': 454, 'k': 450, 'rate': 450, 'activity': 448, 'money': 446, 'graves': 444, 'link': 440, 'news': 440, 'resources': 440, 'revised': 440, 'ami': 440, 'account': 438, 'clynes': 438, 'size': 432, 'pay': 430, 'sure': 428, 'demand': 426, 'hours': 426, 'term': 426, 'receive': 424, 'give': 424, 'good': 424, 'end': 424, 'td': 424, 'meeting': 424, 'entered': 422, 'tx': 422, 'eastrans': 422, 'hplc': 420, 'way': 418, 'issue': 418, 'thursday': 416, 'address': 412, 'young': 412, 'people': 410, 'since': 410, 'aol': 410, 'customers': 406, 'tom': 406, 'able': 404, 'trading': 402, 'customer': 402, 'current': 400, 'section': 398, 'received': 398, 'team': 398, 'natural': 396, 'additional': 396, 'enronxgate': 396, 'brian': 394, 'lee': 392, 'performance': 390, 'computron': 386, 'without': 386, 'note': 384, 'global': 384, 'counterparty': 382, 'rita': 382, 'show': 380, 'trade': 380, 'created': 378, 'lannou': 378, 'special': 376, 'review': 376, 'pt': 376, 'continue': 374, 'unify': 374, 'doc': 372, 'james': 372, 'hanks': 372, 'hplo': 372, 'keep': 370, 'provide': 368, 'meters': 368, 'height': 366, 'ls': 366, 'nominations': 366, 'thru': 364, 'iferc': 364, 'right': 362, 'save': 362, 'jones': 362, 'companies': 362, 'prior': 360, 'create': 360, 'marketing': 360, 'mike': 360, 'site': 358, 'access': 358, 'reply': 358, 'data': 358, 'must': 358, 'tickets': 358, 'lloyd': 358, 'development': 356, 'months': 356, 'paid': 356, 'center': 354, 'st': 354, 'part': 354, 'put': 354, 'power': 352, 'manager': 352, 'done': 352, 'invoice': 350, 'place': 350, 'even': 350, 'every': 350, 'contracts': 350, 'tuesday': 346, 'katherine': 346, 'pefs': 346, 'long': 344, 'numbers': 344, 'regarding': 344, 'offer': 342, 'february': 338, 'transaction': 338, 'allocation': 338, 'gcs': 338, 'cec': 338, 'great': 336, 'visit': 334, 'dec': 332, 'advice': 332, 'correct': 332, 'wynne': 332, 'much': 330, 'read': 330, 'g': 330, 'believe': 328, 'id': 328, 'start': 326, 'support': 324, 'software': 322, 'copy': 322, 'tess': 322, 'weissman': 322, 'interest': 320, 'however': 320, 'field': 320, 'world': 316, 'pricing': 316, 'deliveries': 316, 'control': 314, 'jan': 314, 'spreadsheet': 314, 'chokshi': 314, 'include': 312, 'via': 310, 'carlos': 310, 'pg': 310, 'meyers': 310, 'used': 306, 'period': 306, 'gathering': 306, 'anything': 304, 'details': 304, 'act': 304, 'party': 304, 'update': 304, 'clem': 304, 'increase': 302, 'corporation': 302, 'aep': 302, 'come': 300, 'possible': 300, 'stocks': 300, 'wednesday': 300, 'web': 298, 'add': 296, 'katy': 296, 'agree': 294, 'including': 294, 'ray': 294, 'international': 292, 'feb': 292, 'allocated': 292, 'coastal': 292, 'needed': 290, 'hi': 290, 'using': 290, 'firm': 290, 'buy': 288, 'three': 288, 'direct': 286, 'windows': 286, 'im': 286, 'v': 284, 'sell': 284, 'employees': 284, 'fuels': 284, 'another': 282, 'top': 282, 'face': 282, 'darren': 282, 'stop': 280, 'either': 280, 'results': 280, 'fact': 280, 'low': 278, 'security': 278, 'called': 278, 'remove': 276, 'feel': 276, 'plan': 276, 'sept': 276, 'cornhusker': 276, 'soon': 274, 'position': 274, 'state': 274, 'past': 274, 'operating': 274, 'someone': 274, 'issues': 274, 'scheduling': 274, 'logistics': 274, 'form': 272, 'getting': 272, 'program': 272, 'family': 270, 'storage': 270, 'old': 268, 'move': 268, 'howard': 268, 'calpine': 268, 'notice': 266, 'project': 266, 'risk': 266, 'might': 266, 'provided': 266, 'stone': 266, 'align': 266, 'karen': 266, 'victor': 266, 'better': 264, 'shares': 264, 'already': 262, 'soft': 262, 'operations': 262, 'scheduled': 262, 'equistar': 262, 'professional': 260, 'working': 260, 'sherlyn': 260, 'type': 258, 'charlie': 258, 'little': 258, 'advise': 258, 'error': 256, 'confirm': 256, 'exchange': 256, 'changed': 256, 'path': 256, 'million': 254, 'allen': 254, 'canada': 254, 'terms': 254, 'accounting': 254, 'tomorrow': 254, 'book': 252, 'works': 252, 'newsletter': 252, 'flowed': 252, 'microsoft': 250, 'problem': 250, 'real': 250, 'big': 250, 'ees': 250, 'rodriguez': 250, 'quality': 248, 'width': 248, 'cost': 248, 'parker': 248, 'tax': 246, 'ic': 246, 'lsk': 246, 'financial': 244, 'feedback': 244, 'donna': 244, 'hplnl': 244, 'fred': 242, 'area': 242, 'anyone': 240, 'zero': 240, 'regards': 240, 'united': 240, 'donald': 240, 'cynthia': 240, 'got': 238, 'website': 238, 'href': 236, 'adobe': 236, 'survey': 236, 'central': 236, 'dollars': 234, 'swing': 234, 'rates': 232, 'payment': 232, 'letter': 232, 'city': 232, 'yahoo': 232, 'location': 232, 'follows': 232, 'around': 230, 'follow': 230, 'stephanie': 230, 'morning': 230, 'shut': 230, 'richard': 230, 'entex': 230, 'unsubscribe': 228, 'never': 228, 'estimates': 228, 'requested': 228, 'person': 228, 'camp': 228, 'cleburne': 228, 'cialis': 226, 'content': 226, 'al': 226, 'love': 226, 'index': 226, 'dow': 226, 'albrecht': 226, 'valley': 226, 'schedule': 224, 'beginning': 224, 'vlt': 224, 'buyback': 224, 'cheryl': 224, 'redeliveries': 224, 'offers': 222, 'try': 222, 'intended': 222, 'basis': 222, 'voip': 222, 'scott': 222, 'hope': 222, 'revision': 222, 'limited': 220, 'amount': 220, 'extended': 220, 'poorman': 220, 'something': 218, 'enter': 218, 'added': 218, 'wanted': 218, 'pipe': 218, 'jim': 218, 'portfolio': 216, 'always': 216, 'years': 216, 'industry': 216, 'cover': 216, 'everyone': 216, 'page': 214, 'jeff': 214, 'valid': 214, 'dy': 214, 'material': 212, 'credit': 212, 'east': 212, 'color': 212, 'star': 212, 'suite': 212, 'imbalance': 212, 'extend': 212, 'reinhardt': 212, 'problems': 210, 'technology': 210, 'handle': 210, 'meet': 210, 'cotton': 210, 'gco': 210, 'approval': 208, 'states': 208, 'yet': 208, 'weekend': 208, 'exploration': 208, 'liz': 208, 'anita': 208, 'waha': 208, 'important': 206, 'small': 206, 'necessary': 206, 'london': 206, 'baumbach': 206, 'lsp': 206, 'viagra': 204, 'zone': 204, 'president': 204, 'complete': 204, 'several': 204, 'lst': 204, 'union': 204, 'dave': 204, 'producer': 204, 'enrononline': 204, 'style': 202, 'watch': 202, 'events': 202, 'el': 202, 'enserch': 202, 'schumack': 202, 'pops': 202, 'loss': 200, 'final': 200, 'confirmed': 200, 'registered': 200, 'thought': 200, 'hotmail': 200, 'shipping': 198, 'expect': 198, 'ms': 198, 'lauri': 198, 'stacey': 198, 'stack': 198, 'prescription': 196, 'updated': 196, 'left': 196, 'addition': 196, 'potential': 196, 'oo': 196, 'unit': 196, 'acton': 196, 'brenda': 196, 'thomas': 194, 'cut': 194, 'night': 194, 'orders': 194, 'run': 194, 'edward': 194, 'dfarmer': 194, 'aepin': 194, 'mailto': 192, 'release': 192, 'investing': 192, 'things': 192, 'action': 192, 'apache': 192, 'neal': 192, 'else': 190, 'computer': 190, 'view': 190, 'tabs': 190, 'expectations': 190, 'full': 190, 'ask': 190, 'question': 190, 'download': 190, 'bellamy': 190, 'mobil': 190, 'br': 188, 'server': 188, 'physical': 188, 'mid': 188, 'completed': 188, 'close': 188, 'priced': 188, 'exception': 188, 'beaumont': 188, 'really': 186, 'case': 186, 'personal': 186, 'third': 186, 'hesse': 186, 'bill': 184, 'cause': 184, 'second': 184, 'sorry': 184, 'nbsp': 184, 'janet': 184, 'life': 182, 'general': 182, 'write': 182, 'times': 182, 'flash': 182, 'listed': 182, 'interested': 182, 'value': 182, 'expected': 182, 'purchases': 182, 'papayoti': 182, 'found': 180, 'probably': 180, 'remember': 180, 'cash': 180, 'coming': 180, 'return': 180, 'lamphier': 180, 'easy': 178, 'html': 178, 'wish': 178, 'capital': 178, 'option': 178, 'facility': 178, 'mentioned': 178, 'cernosek': 178, 'side': 176, 'related': 176, 'afternoon': 176, 'items': 176, 'beverly': 176, 'avila': 176, 'lamadrid': 176, 'ever': 174, 'image': 174, 'cd': 174, 'xp': 174, 'risks': 174, 'legal': 174, 'williams': 174, 'together': 174, 'ltd': 174, 'partners': 174, 'hill': 174, 'cannot': 174, 'sat': 174, 'thu': 174, 'lone': 174, 'hesco': 174, 'different': 172, 'required': 172, 'usa': 172, 'php': 172, 'plans': 172, 'approximately': 172, 'status': 172, 'therefore': 172, 'shows': 172, 'hall': 172, 'mccoy': 172, 'ready': 170, 'growth': 170, 'exxon': 170, 'nothing': 170, 'box': 170, 'requirements': 170, 'transportation': 170, 'saturday': 170, 'paso': 170, 'riley': 170, 'oasis': 170, 'carthage': 170, 'sandi': 170, 'everything': 168, 'included': 168, 'meds': 168, 'users': 168, 'large': 168, 'later': 168, 'weeks': 168, 'tr': 168, 'monthly': 168, 'version': 168, 'mcf': 168, 'text': 166, 'trying': 166, 'additionally': 166, 'impact': 166, 'herrera': 166, 'employee': 166, 'reason': 164, 'aware': 164, 'tell': 164, 'user': 164, 'koch': 164, 'spoke': 164, 'eileen': 164, 'latest': 162, 'commercial': 162, 'bank': 162, 'talk': 162, 'notes': 162, 'walker': 162, 'kind': 160, 'drive': 160, 'major': 160, 'certain': 160, 'given': 160, 'password': 160, 'technologies': 160, 'estimate': 160, 'expedia': 160, 'ranch': 160, 'eol': 160, 'short': 158, 'department': 158, 'publisher': 158, 'response': 158, 'oct': 158, 'nov': 158, 'showing': 156, 'say': 156, 'director': 156, 'told': 156, 'discuss': 156, 'systems': 156, 'matter': 156, 'print': 156, 'mm': 156, 'elizabeth': 156, 'includes': 154, 'businesses': 154, 'base': 154, 'mobile': 154, 'differ': 154, 'markets': 154, 'clear': 154, 'target': 154, 'nominated': 154, 'channel': 154, 'industrial': 154, 'jennifer': 154, 'rebecca': 154, 'ponton': 154, 'enw': 154, 'herod': 154, 'care': 152, 'charge': 152, 'experience': 152, 'though': 152, 'public': 152, 'play': 152, 'network': 152, 'delivered': 152, 'lp': 152, 'staff': 152, 'reserves': 152, 'cp': 152, 'code': 150, 'bridge': 150, 'meaning': 150, 'track': 150, 'border': 150, 'verify': 150, 'devon': 150, 'neon': 150, 'enerfin': 150, 'immediately': 148, 'south': 148, 'taking': 148, 'sun': 148, 'according': 148, 'statement': 148, 'kevin': 148, 'wants': 148, 'green': 148, 'voice': 148, 'hakemack': 148, 'outage': 148, 'tammy': 148, 'transfer': 146, 'hub': 146, 'purchased': 146, 'moopid': 146, 'hotlist': 146, 'sign': 146, 'easttexas': 146, 'luong': 146, 'open': 144, 'asked': 144, 'availability': 144, 'considered': 144, 'browser': 144, 'drugs': 144, 'game': 144, 'four': 144, 'reference': 144, 'directly': 144, 'valign': 144, 'guys': 144, 'shell': 144, 'settlements': 144, 'methanol': 144, 'man': 142, 'ali': 142, 'removed': 142, 'options': 142, 'application': 142, 'white': 142, 'johnson': 142, 'answer': 142, 'california': 142, 'estimated': 142, 'ken': 142, 'pc': 140, 'duty': 140, 'compliance': 140, 'press': 140, 'existing': 140, 'records': 140, 'late': 140, 'wells': 140, 'delta': 140, 'bring': 140, 'olsen': 140, 'midcon': 140, 'strangers': 140, 'tetco': 140, 'dynegy': 140, 'god': 138, 'eric': 138, 'happy': 138, 'mr': 138, 'hard': 138, 'china': 138, 'representative': 138, 'sources': 138, 'opportunity': 138, 'understand': 138, 'half': 138, 'longer': 138, 'sunday': 138, 'light': 138, 'informed': 138, 'points': 138, 'earl': 138, 'vacation': 138, 'tejas': 138, 'superty': 138, 'ces': 136, 'publication': 136, 'de': 136, 'uncertainties': 136, 'level': 136, 'shall': 136, 'chance': 136, 'src': 136, 'svcs': 136, 'couple': 136, 'intrastate': 136, 'starting': 134, 'become': 134, 'federal': 134, 'etc': 134, 'middle': 134, 'begin': 134, 'investors': 134, 'projects': 134, 'factors': 134, 'subscribers': 134, 'assets': 134, 'dan': 134, 'training': 134, 'holmes': 134, 'valero': 134, 'gpgfin': 134, 'private': 132, 'quick': 132, 'away': 132, 'took': 132, 'early': 132, 'select': 132, 'land': 132, 'occur': 132, 'none': 132, 'assistance': 132, 'opportunities': 132, 'simply': 132, 'looks': 132, 'matt': 132, 'tisdale': 132, 'pathed': 132, 'availabilities': 132, 'charlene': 132, 'boas': 132, 'fill': 130, 'greater': 130}\n"
          ],
          "name": "stdout"
        }
      ]
    },
    {
      "cell_type": "code",
      "metadata": {
        "id": "U2zQcZArr3VH",
        "colab_type": "code",
        "outputId": "53b41b6a-8e7b-4367-cef4-3ca6c6ae1679",
        "colab": {
          "base_uri": "https://localhost:8080/",
          "height": 164
        }
      },
      "source": [
        "print(len(final_dict))"
      ],
      "execution_count": 0,
      "outputs": [
        {
          "output_type": "error",
          "ename": "NameError",
          "evalue": "ignored",
          "traceback": [
            "\u001b[0;31m---------------------------------------------------------------------------\u001b[0m",
            "\u001b[0;31mNameError\u001b[0m                                 Traceback (most recent call last)",
            "\u001b[0;32m<ipython-input-2-8523ef9c95a3>\u001b[0m in \u001b[0;36m<module>\u001b[0;34m()\u001b[0m\n\u001b[0;32m----> 1\u001b[0;31m \u001b[0mprint\u001b[0m\u001b[0;34m(\u001b[0m\u001b[0mlen\u001b[0m\u001b[0;34m(\u001b[0m\u001b[0mfinal_dict\u001b[0m\u001b[0;34m)\u001b[0m\u001b[0;34m)\u001b[0m\u001b[0;34m\u001b[0m\u001b[0;34m\u001b[0m\u001b[0m\n\u001b[0m",
            "\u001b[0;31mNameError\u001b[0m: name 'final_dict' is not defined"
          ]
        }
      ]
    },
    {
      "cell_type": "code",
      "metadata": {
        "id": "XccqhQxG7D5y",
        "colab_type": "code",
        "colab": {}
      },
      "source": [
        ""
      ],
      "execution_count": 0,
      "outputs": []
    }
  ]
}