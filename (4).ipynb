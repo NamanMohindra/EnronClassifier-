{
  "nbformat": 4,
  "nbformat_minor": 0,
  "metadata": {
    "colab": {
      "name": "BagOfWords(Formal-Infromal)(4).ipynb",
      "provenance": [],
      "collapsed_sections": [],
      "authorship_tag": "ABX9TyMkYRX8XV+g2mSMNVLjbaI5",
      "include_colab_link": true
    },
    "kernelspec": {
      "name": "python3",
      "display_name": "Python 3"
    },
    "accelerator": "GPU"
  },
  "cells": [
    {
      "cell_type": "markdown",
      "metadata": {
        "id": "view-in-github",
        "colab_type": "text"
      },
      "source": [
        "<a href=\"https://colab.research.google.com/github/NamanMohindra/EnronClassifier-/blob/master/(4).ipynb\" target=\"_parent\"><img src=\"https://colab.research.google.com/assets/colab-badge.svg\" alt=\"Open In Colab\"/></a>"
      ]
    },
    {
      "cell_type": "code",
      "metadata": {
        "id": "P3cBylFM1jfx",
        "colab_type": "code",
        "outputId": "24eb0ca3-826a-4b70-e70b-42249ad96450",
        "colab": {
          "base_uri": "https://localhost:8080/",
          "height": 189
        }
      },
      "source": [
        "from google.colab import drive\n",
        "drive.mount('/content/drive')\n"
      ],
      "execution_count": 0,
      "outputs": [
        {
          "output_type": "stream",
          "text": [
            "Go to this URL in a browser: https://accounts.google.com/o/oauth2/auth?client_id=947318989803-6bn6qk8qdgf4n4g3pfee6491hc0brc4i.apps.googleusercontent.com&redirect_uri=urn%3aietf%3awg%3aoauth%3a2.0%3aoob&response_type=code&scope=email%20https%3a%2f%2fwww.googleapis.com%2fauth%2fdocs.test%20https%3a%2f%2fwww.googleapis.com%2fauth%2fdrive%20https%3a%2f%2fwww.googleapis.com%2fauth%2fdrive.photos.readonly%20https%3a%2f%2fwww.googleapis.com%2fauth%2fpeopleapi.readonly\n",
            "\n",
            "Enter your authorization code:\n",
            "··········\n",
            "Mounted at /content/drive\n"
          ],
          "name": "stdout"
        }
      ]
    },
    {
      "cell_type": "code",
      "metadata": {
        "id": "92vxaqDZ4Etw",
        "colab_type": "code",
        "outputId": "b6b7f63a-16f7-4a1f-a6d8-bfde021e395f",
        "colab": {
          "base_uri": "https://localhost:8080/",
          "height": 119
        }
      },
      "source": [
        "import os\n",
        "import numpy as np\n",
        "import re\n",
        "import nltk\n",
        "from nltk.corpus import stopwords\n",
        "nltk.download('punkt')\n",
        "nltk.download('stopwords')\n",
        "nltk.download('words')\n",
        "from collections import Counter\n",
        "from itertools import islice"
      ],
      "execution_count": 0,
      "outputs": [
        {
          "output_type": "stream",
          "text": [
            "[nltk_data] Downloading package punkt to /root/nltk_data...\n",
            "[nltk_data]   Unzipping tokenizers/punkt.zip.\n",
            "[nltk_data] Downloading package stopwords to /root/nltk_data...\n",
            "[nltk_data]   Unzipping corpora/stopwords.zip.\n",
            "[nltk_data] Downloading package words to /root/nltk_data...\n",
            "[nltk_data]   Unzipping corpora/words.zip.\n"
          ],
          "name": "stdout"
        }
      ]
    },
    {
      "cell_type": "code",
      "metadata": {
        "id": "GPLR65gq4oFZ",
        "colab_type": "code",
        "colab": {}
      },
      "source": [
        "def take(n, iterable):\n",
        "    \"Return first n items of the iterable as a list\"\n",
        "    return list(islice(iterable, n))"
      ],
      "execution_count": 0,
      "outputs": []
    },
    {
      "cell_type": "code",
      "metadata": {
        "id": "vai5FYn94YPO",
        "colab_type": "code",
        "colab": {}
      },
      "source": [
        "#making a dictionary \n",
        "main_dict = {}\n",
        "stop_words = set(stopwords.words('english'))\n",
        "def scanMail(mail_string):\n",
        "  res = re.findall(r'\\w+', mail_string)\n",
        "  res.pop(0)\n",
        "  final_res = []\n",
        "  for each_word in res:\n",
        "    if ((each_word.isalpha()) and (each_word not in stop_words)) :\n",
        "      final_res.append(each_word)\n",
        "      if each_word in main_dict:\n",
        "        main_dict[each_word] += 1\n",
        "      else:\n",
        "        main_dict[each_word] = 1\n",
        "\n",
        "  return final_res"
      ],
      "execution_count": 0,
      "outputs": []
    },
    {
      "cell_type": "code",
      "metadata": {
        "id": "yyVXzRxc4fiy",
        "colab_type": "code",
        "colab": {}
      },
      "source": [
        "#only taking ham(non-spam) mails into consideration \n",
        "ENRONNOSPAMDATASET = 'drive/My Drive/Enron Spam/ham'\n",
        "\n",
        "for each_file in os.listdir(ENRONNOSPAMDATASET):\n",
        "  FILENAME = os.path.join(ENRONNOSPAMDATASET, each_file)\n",
        "  #print(FILENAME)\n",
        "  with open(FILENAME, 'r',encoding='utf-8',errors='ignore') as myfile:\n",
        "    data = myfile.read()\n",
        "    word_list = scanMail(data)\n",
        "\n"
      ],
      "execution_count": 0,
      "outputs": []
    },
    {
      "cell_type": "code",
      "metadata": {
        "id": "Oiv4Yguc4jbh",
        "colab_type": "code",
        "outputId": "fe378b51-6631-4e98-9a06-950368418c3b",
        "colab": {
          "base_uri": "https://localhost:8080/",
          "height": 74
        }
      },
      "source": [
        "#sample of the dictionary formed, key-value pairs\n",
        "n_items = take(105, main_dict.items())\n",
        "print(n_items)"
      ],
      "execution_count": 0,
      "outputs": [
        {
          "output_type": "stream",
          "text": [
            "[('wellhead', 279), ('nominations', 218), ('volumes', 791), ('adjusted', 41), ('avg', 13), ('column', 49), ('attached', 1095), ('spreadsheet', 180), ('forward', 296), ('bob', 711), ('latest', 52), ('frontera', 16), ('doc', 195), ('forwarded', 1299), ('hall', 97), ('na', 248), ('enron', 6565), ('pm', 2327), ('leslie', 46), ('reeves', 41), ('ect', 13902), ('cc', 2365), ('subject', 2738), ('fyi', 301), ('greatest', 12), ('keep', 183), ('posted', 31), ('gas', 2869), ('responsibilites', 4), ('discussed', 53), ('beginning', 129), ('pg', 243), ('hou', 7284), ('edith', 10), ('cross', 33), ('stacey', 146), ('w', 323), ('white', 58), ('thresa', 10), ('allen', 188), ('chance', 65), ('look', 237), ('yet', 116), ('sorry', 108), ('e', 1344), ('bruce', 87), ('sukaly', 8), ('jason', 38), ('r', 207), ('wiesepape', 7), ('corp', 1716), ('stuart', 15), ('zisman', 5), ('com', 2723), ('mike', 200), ('curry', 13), ('cut', 105), ('mark', 325), ('please', 2726), ('review', 166), ('discuss', 96), ('morning', 132), ('get', 798), ('free', 202), ('download', 41), ('msn', 46), ('explorer', 20), ('http', 253), ('agreement', 373), ('calpine', 155), ('daily', 557), ('aimee', 359), ('scheduled', 185), ('maintenance', 55), ('starts', 15), ('saturday', 94), ('night', 80), ('midnight', 12), ('continue', 180), ('month', 780), ('per', 456), ('letter', 80), ('sent', 640), ('january', 358), ('plant', 471), ('burn', 10), ('around', 110), ('sunday', 70), ('end', 218), ('period', 176), ('estimate', 102), ('office', 221), ('monday', 257), ('update', 164), ('tuesday', 200), ('question', 107), ('call', 620), ('aron', 2), ('childers', 7), ('thanks', 1821), ('ricky', 58), ('archer', 56), ('fuel', 263), ('supply', 238), ('louisiana', 59)]\n"
          ],
          "name": "stdout"
        }
      ]
    },
    {
      "cell_type": "code",
      "metadata": {
        "id": "6-4F5BuzBwxI",
        "colab_type": "code",
        "colab": {}
      },
      "source": [
        "#function for choosing the 1000 most common words in all the ham emails \n",
        "def getCommon(new_dict, n):\n",
        "  temp_dict = new_dict\n",
        "  ret_dict = {}\n",
        "  for i in range(n):\n",
        "    Keymax = max(temp_dict, key=temp_dict.get)\n",
        "    ret_dict[Keymax]=temp_dict[Keymax]\n",
        "    del temp_dict[Keymax]\n",
        "  return ret_dict\n"
      ],
      "execution_count": 0,
      "outputs": []
    },
    {
      "cell_type": "code",
      "metadata": {
        "id": "yEM5T7zdBxSQ",
        "colab_type": "code",
        "colab": {}
      },
      "source": [
        "final_dict = getCommon(main_dict,1000)"
      ],
      "execution_count": 0,
      "outputs": []
    },
    {
      "cell_type": "code",
      "metadata": {
        "id": "ZWzKP_3-B0FY",
        "colab_type": "code",
        "outputId": "2b4d9b1e-7c24-4810-d604-f9e5da80933a",
        "colab": {
          "base_uri": "https://localhost:8080/",
          "height": 74
        }
      },
      "source": [
        "print(final_dict)"
      ],
      "execution_count": 0,
      "outputs": [
        {
          "output_type": "stream",
          "text": [
            "{'ect': 13902, 'hou': 7284, 'enron': 6565, 'gas': 2869, 'deal': 2804, 'subject': 2738, 'please': 2726, 'com': 2723, 'meter': 2460, 'cc': 2365, 'pm': 2327, 'hpl': 2326, 'daren': 1903, 'thanks': 1821, 'corp': 1716, 'know': 1447, 'mmbtu': 1354, 'e': 1344, 'j': 1302, 'forwarded': 1299, 'need': 1260, 'farmer': 1137, 'attached': 1095, 'let': 1093, 'xls': 1029, 'see': 1025, 'new': 1007, 'may': 970, 'l': 927, 'contract': 887, 'day': 879, 'volume': 878, 'would': 876, 'robert': 875, 'sitara': 861, 'nom': 835, 'texas': 799, 'get': 798, 'volumes': 791, 'month': 780, 'questions': 765, 'pec': 752, 'deals': 749, 'price': 735, 'ena': 734, 'bob': 711, 'th': 706, 'flow': 673, 'message': 671, 'energy': 665, 'file': 656, 'mail': 649, 'change': 648, 'time': 645, 'sent': 640, 'production': 640, 'information': 639, 'call': 620, 'following': 612, 'nomination': 587, 'gary': 561, 'ticket': 560, 'daily': 557, 'also': 552, 'mary': 550, 'us': 549, 'one': 548, 'march': 515, 'april': 512, 'original': 508, 'july': 507, 'x': 473, 'plant': 471, 'company': 468, 'melissa': 462, 'p': 459, 'per': 456, 'effective': 451, 'houston': 450, 'teco': 447, 'back': 442, 'vance': 440, 'net': 439, 'tenaska': 432, 'like': 419, 'days': 418, 'sale': 412, 'list': 411, 'fw': 410, 'june': 410, 'george': 406, 'changes': 403, 'ami': 401, 'pat': 398, 'purchase': 395, 'could': 394, 'smith': 392, 'julie': 390, 'set': 389, 'help': 388, 'want': 387, 'transport': 385, 'jackie': 375, 'agreement': 373, 'well': 372, 'make': 369, 'system': 367, 'b': 366, 'number': 365, 'first': 363, 'north': 363, 'contact': 360, 'aimee': 359, 'email': 359, 'january': 358, 'sales': 357, 'noms': 355, 'c': 351, 'lisa': 349, 'tap': 343, 'desk': 340, 'america': 338, 'susan': 337, 'david': 333, 'pipeline': 333, 'michael': 331, 'october': 331, 'actuals': 330, 'hsc': 330, 'mark': 325, 'order': 324, 'w': 323, 'needs': 323, 'report': 323, 'cotten': 321, 'think': 320, 'august': 318, 'management': 315, 'today': 314, 'taylor': 314, 'megan': 313, 'week': 310, 'steve': 310, 'iv': 309, 'chokshi': 309, 'thank': 308, 'friday': 307, 'request': 305, 'delivery': 302, 'fyi': 301, 'john': 301, 'take': 298, 'tom': 297, 'next': 297, 'forward': 296, 'duke': 294, 'point': 293, 'work': 292, 'co': 292, 'oil': 292, 'hplc': 292, 'date': 290, 'less': 290, 'last': 288, 'business': 288, 'september': 287, 'name': 285, 'tu': 285, 'group': 285, 'december': 281, 'november': 280, 'wellhead': 279, 'clynes': 276, 'k': 276, 'use': 275, 'february': 275, 'total': 274, 'eastrans': 273, 'feb': 271, 'activity': 270, 'service': 270, 'spot': 267, 'sure': 267, 'tickets': 267, 'issue': 267, 'lloyd': 267, 'counterparty': 266, 'meeting': 266, 'graves': 265, 'line': 264, 'two': 264, 'go': 264, 'fuel': 263, 'unify': 262, 'currently': 261, 'brian': 259, 'team': 258, 'monday': 257, 'meters': 256, 'due': 254, 'http': 253, 'aol': 253, 'revised': 251, 'resources': 251, 'inc': 249, 'na': 248, 'services': 247, 'send': 245, 'pg': 243, 'still': 243, 'f': 242, 'lee': 241, 'actual': 240, 'utilities': 239, 'txu': 239, 'global': 239, 'supply': 238, 'year': 238, 'look': 237, 'h': 237, 'contracts': 237, 'fax': 235, 'based': 234, 'jan': 233, 'tx': 229, 'hplno': 228, 'meyers': 228, 'howard': 225, 'fee': 223, 'rate': 223, 'thursday': 223, 'give': 222, 'process': 222, 'rita': 222, 'office': 221, 'lannou': 221, 'received': 220, 'nominations': 218, 'end': 218, 'created': 218, 'since': 217, 'hanks': 217, 'young': 216, 'james': 214, 'going': 213, 'note': 212, 'allocation': 211, 'phone': 209, 'made': 209, 'trading': 209, 'demand': 208, 'r': 207, 'entered': 206, 'done': 205, 'find': 204, 'available': 204, 'free': 202, 'correct': 201, 'mike': 200, 'tuesday': 200, 'thru': 200, 'check': 199, 'enronxgate': 198, 'pefs': 198, 'data': 198, 'put': 197, 'however': 197, 'deliveries': 197, 'able': 196, 'weissman': 196, 'doc': 195, 'manager': 195, 'gcs': 195, 'cec': 195, 'additional': 194, 'dec': 194, 'katherine': 194, 'show': 193, 'issues': 193, 'wynne': 193, 'carlos': 191, 'allocated': 190, 'camp': 190, 'hplo': 190, 'invoice': 189, 'allen': 188, 'term': 187, 'scheduled': 185, 'path': 185, 'fuels': 185, 'iferc': 185, 'regarding': 184, 'natural': 184, 'keep': 183, 'people': 183, 'gathering': 183, 'receive': 182, 'place': 182, 'provide': 181, 'numbers': 181, 'spreadsheet': 180, 'continue': 180, 'logistics': 180, 'product': 180, 'transaction': 178, 'click': 177, 'id': 177, 'pricing': 177, 'high': 177, 'equistar': 177, 'buyback': 177, 'anita': 177, 'ls': 177, 'period': 176, 'jones': 176, 'marketing': 173, 'access': 172, 'create': 172, 'www': 171, 'good': 171, 'field': 170, 'said': 170, 'problem': 170, 'sherlyn': 170, 'fred': 170, 'someone': 169, 'anything': 169, 'flowed': 168, 'support': 168, 'home': 168, 'wednesday': 168, 'scheduling': 167, 'pops': 167, 'review': 166, 'entex': 166, 'katy': 166, 'pay': 166, 'address': 166, 'customer': 166, 'possible': 165, 'update': 164, 'plan': 163, 'ees': 163, 'control': 162, 'firm': 162, 'zero': 162, 'operations': 162, 'prior': 161, 'clem': 161, 'st': 161, 'tess': 160, 'darren': 159, 'either': 159, 'current': 158, 'soon': 158, 'swing': 158, 'coastal': 158, 'months': 157, 'way': 156, 'calpine': 155, 'scott': 155, 'hours': 154, 'valley': 153, 'brenda': 153, 'must': 152, 'midcon': 152, 'accounting': 151, 'needed': 151, 'aep': 151, 'start': 151, 'employees': 151, 'changed': 150, 'im': 150, 'tomorrow': 150, 'gco': 150, 'survey': 150, 'another': 149, 'right': 149, 'ray': 149, 'stephanie': 149, 'ranch': 149, 'imbalance': 147, 'ces': 147, 'donna': 147, 'stacey': 146, 'working': 146, 'agree': 145, 'power': 145, 'karen': 145, 'cotton': 145, 'parker': 144, 'add': 144, 'donald': 144, 'acton': 143, 'rodriguez': 142, 'thu': 141, 'used': 140, 'lauri': 140, 'follows': 140, 'richard': 139, 'beaumont': 138, 'cornhusker': 138, 'sept': 138, 'advise': 137, 'old': 137, 'market': 136, 'much': 136, 'jim': 136, 'valid': 136, 'vlt': 136, 'hotmail': 136, 'schedule': 135, 'redeliveries': 135, 'development': 135, 'victor': 135, 'rates': 134, 'cynthia': 134, 'storage': 133, 'pipe': 133, 'carthage': 133, 'corporation': 133, 'morning': 132, 'great': 132, 'copy': 132, 'customers': 132, 'schumack': 131, 'feedback': 131, 'dave': 130, 'charlie': 130, 'increase': 130, 'n': 130, 'using': 130, 'beginning': 129, 'risk': 129, 'paid': 129, 'requested': 128, 'stone': 128, 'mobil': 128, 'reinhardt': 128, 'web': 128, 'ken': 127, 'shut': 127, 'luong': 127, 'getting': 126, 'come': 126, 'called': 126, 'part': 126, 'believe': 125, 'account': 125, 'every': 125, 'wanted': 124, 'book': 123, 'products': 123, 'cheryl': 123, 'lst': 123, 'lsk': 123, 'confirmed': 122, 'jeff': 122, 'revision': 122, 'ic': 122, 'hplnl': 122, 'herod': 122, 'page': 121, 'handle': 121, 'financial': 121, 'extend': 121, 'within': 121, 'methanol': 121, 'producer': 121, 'person': 120, 'amount': 120, 'trade': 120, 'thomas': 120, 'albrecht': 120, 'already': 119, 'buy': 119, 'operating': 119, 'form': 119, 'papayoti': 119, 'center': 118, 'something': 118, 'shows': 118, 'type': 118, 'dfarmer': 117, 'extended': 117, 'three': 117, 'cover': 117, 'bryan': 117, 'yet': 116, 'east': 116, 'union': 116, 'exxon': 116, 'best': 116, 'lamphier': 116, 'hope': 115, 'valero': 115, 'internet': 115, 'edward': 114, 'error': 114, 'cleburne': 114, 'enrononline': 113, 'looking': 112, 'everyone': 112, 'problems': 112, 'baumbach': 111, 'project': 111, 'position': 111, 'location': 111, 'confirm': 111, 'anyone': 111, 'clear': 111, 'around': 110, 'nominated': 110, 'basis': 110, 'poorman': 110, 'updated': 110, 'via': 110, 'listed': 109, 'addition': 109, 'else': 109, 'sorry': 108, 'janet': 108, 'central': 108, 'devon': 108, 'liz': 108, 'got': 108, 'el': 108, 'tax': 108, 'dow': 108, 'g': 108, 'afternoon': 108, 'jennifer': 108, 'feel': 108, 'question': 107, 'dy': 107, 'might': 107, 'koch': 106, 'several': 106, 'status': 106, 'waha': 106, 'eol': 106, 'cut': 105, 'info': 105, 'lsp': 105, 'hesse': 105, 'neal': 105, 'oasis': 105, 'weekend': 104, 'future': 104, 'left': 104, 'yahoo': 104, 'stack': 104, 'state': 103, 'added': 103, 'coming': 103, 'probably': 103, 'sell': 103, 'move': 103, 'training': 103, 'estimate': 102, 'purchases': 102, 'long': 102, 'riley': 102, 'unit': 102, 'employee': 102, 'exception': 102, 'star': 101, 'enserch': 101, 'different': 101, 'lp': 101, 'stella': 101, 'mid': 100, 'mcf': 100, 'many': 100, 'special': 100, 'items': 100, 'outage': 100, 'big': 100, 'monthly': 99, 'link': 99, 'follow': 98, 'mailto': 98, 'cernosek': 98, 'pathed': 98, 'kevin': 98, 'hall': 97, 'enter': 97, 'portfolio': 97, 'reports': 97, 'complete': 97, 'aepin': 97, 'discuss': 96, 'direct': 96, 'together': 96, 'apache': 96, 'things': 96, 'program': 96, 'priced': 96, 'withers': 96, 'physical': 95, 'online': 95, 'tejas': 95, 'return': 95, 'industrial': 95, 'saturday': 94, 'bellamy': 94, 'even': 94, 'close': 94, 'option': 94, 'payment': 93, 'read': 93, 'necessary': 93, 'offer': 93, 'final': 93, 'without': 93, 'lone': 92, 'notice': 92, 'spoke': 92, 'receipt': 92, 'points': 92, 'thought': 92, 'reflect': 92, 'morris': 92, 'party': 92, 'mm': 92, 'visit': 91, 'hi': 91, 'therefore': 91, 'williams': 91, 'approval': 91, 'boas': 91, 'suite': 90, 'password': 90, 'case': 90, 'london': 90, 'include': 90, 'elizabeth': 90, 'lamadrid': 89, 'transportation': 89, 'avila': 88, 'verify': 88, 'mccoy': 88, 'easttexas': 88, 'approximately': 88, 'facility': 88, 'superty': 88, 'exchange': 88, 'performance': 88, 'bruce': 87, 'trying': 87, 'hesco': 87, 'zone': 87, 'william': 87, 'president': 87, 'site': 87, 'nov': 87, 'settlements': 87, 'cdnow': 87, 'vacation': 86, 'nguyen': 86, 'run': 86, 'showing': 86, 'hakemack': 86, 'herrera': 86, 'track': 86, 'charlotte': 86, 'gpgfin': 86, 'legal': 86, 'little': 85, 'beverly': 85, 'paso': 85, 'meet': 85, 'better': 85, 'cannot': 85, 'included': 85, 'cp': 85, 'additionally': 85, 'intended': 85, 'sandi': 85, 'ask': 84, 'cost': 84, 'asked': 84, 'details': 84, 'walker': 84, 'ltd': 84, 'kcs': 84, 'oct': 84, 'base': 83, 'activities': 83, 'index': 83, 'hill': 83, 'sally': 83, 'told': 82, 'talk': 82, 'eileen': 82, 'including': 82, 'city': 82, 'try': 82, 'sat': 82, 'moved': 82, 'impact': 82, 'tina': 82, 'section': 81, 'staff': 81, 'night': 80, 'letter': 80, 'bridge': 80, 'purchased': 80, 'requirements': 80, 'earl': 80, 'reliantenergy': 80, 'costs': 79, 'exploration': 79, 'king': 79, 'expedia': 79, 'johnson': 78, 'eric': 78, 'love': 78, 'rebecca': 78, 'completed': 78, 'comments': 78, 'stock': 78, 'ponton': 77, 'hub': 77, 'capacity': 77, 'website': 77, 'print': 77, 'flowing': 77, 'gomes': 77, 'kimberly': 77, 'channel': 77, 'enw': 77, 'dan': 76, 'ensure': 76, 'delivered': 76, 'understanding': 76, 'informed': 76, 'found': 76, 'enerfin': 76, 'btu': 75, 'expense': 75, 'prices': 75, 'neon': 75, 'looks': 75, 'terry': 75, 'response': 75, 'rd': 75, 'later': 75, 'missing': 75, 'strangers': 74, 'tisdale': 74, 'tell': 74, 'version': 74, 'tammy': 74, 'dynegy': 74, 'area': 73, 'gulf': 73, 'related': 73, 'whole': 73, 'allow': 73, 'tetco': 73, 'bill': 72, 'directly': 72, 'early': 72, 'distribution': 72, 'mckay': 72, 'etc': 72, 'select': 72, 'understand': 72, 'image': 72, 'orders': 72, 'allocate': 72, 'invoices': 72, 'rc': 72, 'balance': 71, 'box': 71, 'content': 71, 'guys': 71, 'loss': 71, 'transactions': 71, 'answer': 71, 'document': 71, 'neuweiler': 71, 'sunday': 70, 'notes': 70, 'olsen': 70, 'tufco': 70, 'couple': 70, 'canada': 70, 'mops': 70, 'unsubscribe': 70, 'jill': 70, 'assignment': 70, 'expected': 70, 'processing': 70, 'application': 70, 'charlene': 70, 'trader': 70, 'intrastate': 70, 'general': 70, 'holmes': 70, 'appreciate': 69, 'options': 69, 'reply': 69, 'interest': 69, 'value': 69, 'expired': 69, 'gtc': 69, 'personal': 69, 'asap': 69, 'interconnect': 69, 'flash': 68, 'fill': 68, 'mentioned': 68, 'ext': 68, 'provided': 68, 'never': 68, 'important': 68, 'referenced': 68, 'weeks': 68, 'according': 68, 'chad': 68, 'availabilities': 68, 'panenergy': 68, 'commercial': 68, 'capital': 68, 'heidi': 68, 'draft': 67, 'discussion': 67, 'greg': 67, 'credit': 67, 'billed': 67, 'yesterday': 67, 'open': 67, 'times': 67, 'roll': 67, 'ready': 67, 'transition': 67, 'chris': 67, 'release': 67, 'mar': 67, 'valadez': 67, 'level': 66, 'past': 66, 'user': 66, 'everything': 66, 'assistance': 66, 'takes': 66, 'years': 66, 'assets': 66, 'svcs': 66, 'begin': 66, 'always': 66, 'stay': 66, 'regards': 66, 'ua': 66, 'wells': 66, 'united': 66, 'communications': 66, 'linda': 66, 'stephen': 66, 'systems': 66, 'matt': 66, 'chance': 65, 'statement': 65, 'small': 65, 'sold': 65, 'interested': 65, 'estimates': 65, 'though': 65, 'pinion': 65, 'south': 64, 'charge': 64, 'longer': 64, 'wants': 64, 'al': 64, 'kim': 64, 'really': 64, 'cass': 64, 'tracked': 64, 'jo': 64, 'limit': 64, 'determine': 64, 'brazos': 63, 'evergreen': 63, 'code': 63, 'trevino': 63, 'starting': 63, 'excess': 63, 'revisions': 63, 'estimated': 63, 'planning': 63, 'copano': 63, 'side': 63, 'taking': 63, 'groups': 63, 'unaccounted': 63, 'view': 62, 'previously': 62, 'remaining': 62, 'winfree': 62, 'morgan': 62, 'epgt': 62, 'room': 62, 'origination': 62, 'short': 61, 'role': 61, 'users': 61, 'late': 61, 'lonestar': 61, 'bring': 61, 'christy': 61, 'crosstex': 61, 'hear': 61, 'spinnaker': 61, 'dth': 61, 'rick': 61, 'troy': 61, 'reveffo': 61, 'given': 60, 'money': 60, 'second': 60, 'works': 60, 'u': 60, 'correctly': 60, 'shell': 60, 'resolve': 60, 'messages': 60, 'nd': 60, 'importance': 60, 'travel': 60, 'non': 60, 'partners': 60, 'prc': 60, 'responsible': 60, 'louisiana': 59, 'kelly': 59, 'markets': 59, 'summary': 59, 'top': 59, 'notify': 59, 'confirmation': 59, 'mtr': 59, 'prod': 59, 'taken': 59, 'write': 59, 'mmbtus': 59, 'county': 59, 'cpr': 59, 'went': 59, 'blue': 59, 'associated': 59, 'appropriate': 59, 'ews': 59, 'encina': 59, 'white': 58, 'ricky': 58, 'specific': 58, 'paul': 58, 'took': 58, 'spring': 58, 'remember': 58, 'grant': 58, 'csikos': 58, 'cell': 58, 'hey': 58, 'goliad': 58, 'sign': 57, 'monitor': 57, 'respond': 57, 'california': 57, 'real': 57, 'gd': 57, 'schneider': 57, 'dallas': 57, 'vols': 57, 'owner': 57, 'pass': 57, 'daniel': 57, 'analysis': 57, 'assigned': 57, 'resume': 57, 'jackson': 57, 'pager': 57, 'businesses': 57, 'concerns': 57, 'jeffrey': 57, 'golf': 57, 'green': 57, 'resolved': 57, 'hanson': 57, 'archer': 56, 'park': 56, 'cash': 56, 'god': 56, 'southern': 56, 'sun': 56, 'texaco': 56, 'hernandez': 56, 'booked': 56}\n"
          ],
          "name": "stdout"
        }
      ]
    },
    {
      "cell_type": "code",
      "metadata": {
        "id": "ZKWXGOqcXPVx",
        "colab_type": "code",
        "colab": {}
      },
      "source": [
        "import csv\n",
        "with open('drive/My Drive/Enron Spam/bagofwords_formal_informal.csv', 'w') as f:\n",
        "    for key in final_dict.keys():\n",
        "        f.write(\"%s,%s\\n\"%(key,final_dict[key]))"
      ],
      "execution_count": 0,
      "outputs": []
    },
    {
      "cell_type": "code",
      "metadata": {
        "id": "8RnOAO5_Ywmi",
        "colab_type": "code",
        "colab": {}
      },
      "source": [
        ""
      ],
      "execution_count": 0,
      "outputs": []
    }
  ]
}